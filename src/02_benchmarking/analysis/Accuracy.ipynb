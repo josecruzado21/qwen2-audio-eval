{
 "cells": [
  {
   "cell_type": "code",
   "execution_count": null,
   "id": "f98ed44e",
   "metadata": {},
   "outputs": [],
   "source": [
    "import pandas as pd"
   ]
  },
  {
   "cell_type": "markdown",
   "id": "3f573160",
   "metadata": {},
   "source": [
    "# MMLU"
   ]
  },
  {
   "cell_type": "code",
   "execution_count": null,
   "id": "781d6379",
   "metadata": {},
   "outputs": [],
   "source": [
    "mmlu = pd.read_csv(\"../../../data/MMLU.csv\")\n",
    "mmlu[\"correct\"] = mmlu[\"answer\"].map({0: \"A\", 1: \"B\", 2: \"C\", 3: \"D\"})\n",
    "mmlu = mmlu[0:200].copy()"
   ]
  },
  {
   "cell_type": "markdown",
   "id": "8f59bf83",
   "metadata": {},
   "source": [
    "## Qwen2Audio audio only"
   ]
  },
  {
   "cell_type": "code",
   "execution_count": null,
   "id": "b59f79b4",
   "metadata": {},
   "outputs": [],
   "source": [
    "# Accuracy all\n",
    "mmlu_audioonly_answered = mmlu[mmlu[\"qwen2audio_audioonly_response\"].isin([\"A\", \"B\", \"C\", \"D\"])].copy()\n",
    "accuracy_qwen2audio_audioonly_answered = (mmlu_audioonly_answered[\"correct\"]  == mmlu_audioonly_answered[\"qwen2audio_audioonly_response\"]).mean()\n",
    "print(f\"Accuracy Qwen2Audio Audio-Only (Answered): {round(accuracy_qwen2audio_audioonly_answered*100,2)}\")\n",
    "\n",
    "accuracy_qwen2audio_audioonly = (mmlu[\"correct\"]  == mmlu[\"qwen2audio_audioonly_response\"]).mean()\n",
    "print(f\"Accuracy Qwen2Audio Audio-Only (Total): {round(accuracy_qwen2audio_audioonly*100, 2)}\")"
   ]
  },
  {
   "cell_type": "markdown",
   "id": "ef0c67d2",
   "metadata": {},
   "source": [
    "# Qwen2 textonly"
   ]
  },
  {
   "cell_type": "code",
   "execution_count": null,
   "id": "92878bd5",
   "metadata": {},
   "outputs": [],
   "source": [
    "print(\"Percentage of questions answered by Qwen2 textonly:\", mmlu[\"qwen2_textonly_response_clean\"].isin([\"A\", \"B\", \"C\", \"D\"]).mean() * 100)\n",
    "mmlu_qwen2_textonly_answered = mmlu[mmlu[\"qwen2_textonly_response_clean\"].isin([\"A\", \"B\", \"C\", \"D\"])].copy()\n",
    "accuracy_qwen2_answered = (mmlu_qwen2_textonly_answered[\"qwen2_textonly_response_clean\"] == mmlu_qwen2_textonly_answered[\"correct\"]).mean()\n",
    "print(f\"Accuracy Qwen2 (Answered): {round(accuracy_qwen2_answered*100, 2)}\")\n",
    "\n",
    "accuracy_qwen2 = (mmlu[\"qwen2_textonly_response_clean\"] == mmlu[\"correct\"]).mean()\n",
    "print(f\"Accuracy Qwen2 (Total): {round(accuracy_qwen2*100, 2)}\")"
   ]
  },
  {
   "cell_type": "markdown",
   "id": "ef4fc647",
   "metadata": {},
   "source": [
    "# Qwen2Audio textonly"
   ]
  },
  {
   "cell_type": "code",
   "execution_count": null,
   "id": "0368d6ef",
   "metadata": {},
   "outputs": [],
   "source": [
    "print(\"Percentage of questions answered by Qwen2Audio textonly:\", mmlu[\"qwen2audio_textonly_response_clean\"].isin([\"A\", \"B\", \"C\", \"D\"]).mean() * 100)\n",
    "mmlu_qwen2audio_textonly_answered = mmlu[mmlu[\"qwen2audio_textonly_response_clean\"].isin([\"A\", \"B\", \"C\", \"D\"])].copy()\n",
    "accuracy_qwen2audio_textonly_answered = (mmlu_qwen2audio_textonly_answered[\"qwen2audio_textonly_response_clean\"] == mmlu_qwen2audio_textonly_answered[\"correct\"]).mean()\n",
    "print(f\"Accuracy Qwen2Audio textonly (Answered): {round(accuracy_qwen2audio_textonly_answered*100, 2)}\")\n",
    "\n",
    "accuracy_qwen2audio_textonly = (mmlu[\"qwen2audio_textonly_response_clean\"] == mmlu[\"correct\"]).mean()\n",
    "print(f\"Accuracy Qwen2Audio textonly (Total): {round(accuracy_qwen2audio_textonly*100, 2)}\")"
   ]
  }
 ],
 "metadata": {
  "kernelspec": {
   "display_name": "slm",
   "language": "python",
   "name": "python3"
  },
  "language_info": {
   "codemirror_mode": {
    "name": "ipython",
    "version": 3
   },
   "file_extension": ".py",
   "mimetype": "text/x-python",
   "name": "python",
   "nbconvert_exporter": "python",
   "pygments_lexer": "ipython3",
   "version": "3.10.16"
  }
 },
 "nbformat": 4,
 "nbformat_minor": 5
}
