{
 "cells": [
  {
   "cell_type": "code",
   "execution_count": null,
   "id": "3b2730ab",
   "metadata": {},
   "outputs": [],
   "source": [
    "import pandas as pd\n",
    "from jiwer import wer, compute_measures, Compose, SubstituteWords, ToLowerCase, RemovePunctuation, RemoveMultipleSpaces, Strip, process_words\n"
   ]
  },
  {
   "cell_type": "code",
   "execution_count": null,
   "id": "e832ad66",
   "metadata": {},
   "outputs": [],
   "source": [
    "custom_map = {\n",
    "    \"mr\": \"mister\",\n",
    "    \"mr\": \"mister\",\n",
    "    \"mrs\": \"misses\",\n",
    "    \"dr\": \"doctor\",\n",
    "    \"dr\": \"doctor\",\n",
    "    \"st\": \"saint\",\n",
    "    # add more as needed\n",
    "}\n",
    "\n",
    "transform = Compose([\n",
    "    ToLowerCase(),\n",
    "    RemoveMultipleSpaces(),\n",
    "    Strip(),\n",
    "    SubstituteWords(custom_map),\n",
    "    RemovePunctuation(),\n",
    "])"
   ]
  },
  {
   "cell_type": "markdown",
   "id": "944e7987",
   "metadata": {},
   "source": [
    "# Qwen2Audio ASR"
   ]
  },
  {
   "cell_type": "code",
   "execution_count": null,
   "id": "e2489f9c",
   "metadata": {},
   "outputs": [],
   "source": [
    "asr_qwenaudio = pd.read_csv(\"../../../data/librispeech_qwen2audio_dev-clean.csv\")\n",
    "original_qwenaudio = ' '.join(asr_qwenaudio['original_text'].str.lower().tolist())\n",
    "hypothesis_qwenaudio = ' '.join(asr_qwenaudio['transcripts'].str.lower().tolist())\n",
    "overall_wer_qwenaudio = wer(transform(original_qwenaudio), transform(hypothesis_qwenaudio))\n",
    "overall_wer_qwenaudio"
   ]
  },
  {
   "cell_type": "markdown",
   "id": "a170f21f",
   "metadata": {},
   "source": [
    "# Whisper ASP"
   ]
  },
  {
   "cell_type": "code",
   "execution_count": null,
   "id": "603491ac",
   "metadata": {},
   "outputs": [],
   "source": [
    "asr_whisper = pd.read_csv(\"../../../data/librispeech_whisper_dev-clean.csv\")\n",
    "original_whisper = ' '.join(asr_whisper['original_text'].str.lower().tolist())\n",
    "hypothesis_whisper = ' '.join(asr_whisper['transcripts'].str.lower().tolist())\n",
    "overall_wer_whisper = wer(transform(original_whisper), transform(hypothesis_whisper))\n",
    "overall_wer_whisper"
   ]
  }
 ],
 "metadata": {
  "kernelspec": {
   "display_name": "slm",
   "language": "python",
   "name": "python3"
  },
  "language_info": {
   "codemirror_mode": {
    "name": "ipython",
    "version": 3
   },
   "file_extension": ".py",
   "mimetype": "text/x-python",
   "name": "python",
   "nbconvert_exporter": "python",
   "pygments_lexer": "ipython3",
   "version": "3.10.16"
  }
 },
 "nbformat": 4,
 "nbformat_minor": 5
}
