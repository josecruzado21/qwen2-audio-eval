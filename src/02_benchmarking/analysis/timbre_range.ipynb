{
 "cells": [
  {
   "cell_type": "code",
   "execution_count": null,
   "id": "876e3c28",
   "metadata": {},
   "outputs": [],
   "source": [
    "import pandas as pd"
   ]
  },
  {
   "cell_type": "markdown",
   "id": "c1e73797",
   "metadata": {},
   "source": [
    "# Pre FT"
   ]
  },
  {
   "cell_type": "code",
   "execution_count": null,
   "id": "9b17ce67",
   "metadata": {},
   "outputs": [],
   "source": [
    "pre_ft = pd.read_csv(\"/Users/jose_cruzado/Library/CloudStorage/OneDrive-TheUniversityofChicago/UChicago/MS Statistics/Courses/Spring 2025/Speech Technologies/Project/qwen2-audio-eval/data/fintune_qwen2audio_timbre_range.csv\")"
   ]
  },
  {
   "cell_type": "code",
   "execution_count": null,
   "id": "0cab6485",
   "metadata": {},
   "outputs": [],
   "source": [
    "(pre_ft[\"timbre_range_pre_ft\"]  == pre_ft[\"labels\"]).mean()"
   ]
  },
  {
   "cell_type": "markdown",
   "id": "b74ff7f4",
   "metadata": {},
   "source": [
    "# Post FT"
   ]
  },
  {
   "cell_type": "code",
   "execution_count": null,
   "id": "a3061bda",
   "metadata": {},
   "outputs": [],
   "source": [
    "post_ft = pd.read_csv(\"/Users/jose_cruzado/Library/CloudStorage/OneDrive-TheUniversityofChicago/UChicago/MS Statistics/Courses/Spring 2025/Speech Technologies/Project/qwen2-audio-eval/data/finetune_qwen2audio_timbre_range_post.csv\")"
   ]
  },
  {
   "cell_type": "code",
   "execution_count": null,
   "id": "50aefe49",
   "metadata": {},
   "outputs": [],
   "source": [
    "(post_ft[\"timbre_range_post_ft\"] == pre_ft[\"labels\"][0:142]).mean()"
   ]
  },
  {
   "cell_type": "code",
   "execution_count": null,
   "id": "e4db432e",
   "metadata": {},
   "outputs": [],
   "source": [
    "pre_ft[\"labels\"].value_counts(normalize=True)"
   ]
  },
  {
   "cell_type": "code",
   "execution_count": null,
   "id": "8d3358fd",
   "metadata": {},
   "outputs": [],
   "source": []
  }
 ],
 "metadata": {
  "kernelspec": {
   "display_name": "slm",
   "language": "python",
   "name": "python3"
  },
  "language_info": {
   "codemirror_mode": {
    "name": "ipython",
    "version": 3
   },
   "file_extension": ".py",
   "mimetype": "text/x-python",
   "name": "python",
   "nbconvert_exporter": "python",
   "pygments_lexer": "ipython3",
   "version": "3.10.16"
  }
 },
 "nbformat": 4,
 "nbformat_minor": 5
}
